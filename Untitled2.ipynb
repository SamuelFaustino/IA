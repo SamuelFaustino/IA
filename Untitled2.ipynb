{
  "nbformat": 4,
  "nbformat_minor": 0,
  "metadata": {
    "colab": {
      "provenance": [],
      "authorship_tag": "ABX9TyNrkf/US+kUK8j6ZHAOKmoE",
      "include_colab_link": true
    },
    "kernelspec": {
      "name": "python3",
      "display_name": "Python 3"
    },
    "language_info": {
      "name": "python"
    }
  },
  "cells": [
    {
      "cell_type": "markdown",
      "metadata": {
        "id": "view-in-github",
        "colab_type": "text"
      },
      "source": [
        "<a href=\"https://colab.research.google.com/github/SamuelFaustino/IA/blob/main/Untitled2.ipynb\" target=\"_parent\"><img src=\"https://colab.research.google.com/assets/colab-badge.svg\" alt=\"Open In Colab\"/></a>"
      ]
    },
    {
      "cell_type": "code",
      "execution_count": 1,
      "metadata": {
        "id": "QEJOo-Nrs6bs"
      },
      "outputs": [],
      "source": [
        "# Jogo da Velha"
      ]
    },
    {
      "cell_type": "code",
      "source": [
        "print(\" aloo \")"
      ],
      "metadata": {
        "colab": {
          "base_uri": "https://localhost:8080/"
        },
        "id": "kcV1BNVU3LOH",
        "outputId": "af2c6b49-2cd5-4529-f1c8-5e35cda242e7"
      },
      "execution_count": 2,
      "outputs": [
        {
          "output_type": "stream",
          "name": "stdout",
          "text": [
            " aloo \n"
          ]
        }
      ]
    },
    {
      "cell_type": "code",
      "source": [
        "import random"
      ],
      "metadata": {
        "id": "87rx0EZZ3Rtf"
      },
      "execution_count": 3,
      "outputs": []
    },
    {
      "cell_type": "code",
      "source": [
        "import random\n",
        "\n",
        "def escolher():\n",
        "    opcoes = [\"pedra\", \"papel\", \"tesoura\"]\n",
        "    escolha = input(\"Pedra, papel ou tesoura? \").lower()\n",
        "\n",
        "    while escolha not in opcoes:\n",
        "        print(\"Escolha inválida! \")\n",
        "        escolha = input(\"Pedra, papel ou tesoura? \").lower()\n",
        "\n",
        "    return escolha\n",
        "\n",
        "def jogar():\n",
        "    p1 = escolher()\n",
        "    p2 = random.choice([\"pedra\", \"papel\", \"tesoura\"])\n",
        "\n",
        "    print(f\"O computador escolheu {p2}.\\n\")\n",
        "\n",
        "    if p1 == p2:\n",
        "        print(\"EMPATE!\")\n",
        "    elif (p1 == \"pedra\" and p2 == \"tesoura\") or \\\n",
        "         (p1 == \"papel\" and p2 == \"pedra\") or \\\n",
        "         (p1 == \"tesoura\" and p2 == \"papel\"):\n",
        "        print(\"VENCEU!\")\n",
        "    else:\n",
        "        print(\"PERDEU!!!\")\n",
        "\n",
        "if __name__ == \"__main__\":\n",
        "    print(\"-- Iniciando jogo --\\n\")\n",
        "\n",
        "    while True:\n",
        "        jogar()\n",
        "\n",
        "        jogar_novamente = input(\"Deseja jogar novamente ?  (S/n): \").lower()\n",
        "        if jogar_novamente != \"s\":\n",
        "            break\n",
        "\n",
        "    print(\"-- Finalizando Jogo! --\")\n"
      ],
      "metadata": {
        "colab": {
          "base_uri": "https://localhost:8080/"
        },
        "id": "ymD_Dwdq94yl",
        "outputId": "9a62547e-c8fc-4183-eedd-a6bab6450ff2"
      },
      "execution_count": 25,
      "outputs": [
        {
          "output_type": "stream",
          "name": "stdout",
          "text": [
            "-- Iniciando jogo --\n",
            "\n",
            "Pedra, papel ou tesoura? pedra\n",
            "\n",
            "Você escolheu pedra.\n",
            "O computador escolheu papel.\n",
            "\n",
            "PERDEU!!!\n",
            "Deseja jogar novamente ?  (S/n): s\n",
            "Pedra, papel ou tesoura? tesoura\n",
            "\n",
            "Você escolheu tesoura.\n",
            "O computador escolheu papel.\n",
            "\n",
            "VENCEU!\n",
            "Deseja jogar novamente ?  (S/n): n\n",
            "-- Finalizando Jogo! --\n"
          ]
        }
      ]
    },
    {
      "cell_type": "markdown",
      "source": [
        "## Defina com suas próprias palavras: (a) inteligência, (b) inteligência    artificial, (c) agente, (d) racionalidade, (e) raciocínio lógico.\n",
        "### a) Saber ou conhecimento tecnico teórico, com base ciêntifica ou aplicação lógica da experiência;\n",
        "### b) Conceber aspectos e características relacionados, e à forma do pensamento humano lógico e racional, a um sistema de computador, em suas mais diversas formas e aplicaçôes.\n",
        "## c) Sistemas que processam informações com o intuito de tomada de decisòes previamente programadas.\n",
        "## d) Tomada de decisões baseadas nas informaçôes coletadas.\n",
        "## e) Ato de se chegar a alguma decisão, baseado em fluxos de informações que atendam um objetivo;"
      ],
      "metadata": {
        "id": "iaiZkRgHBnhF"
      }
    },
    {
      "cell_type": "markdown",
      "source": [],
      "metadata": {
        "id": "z3v4qW3TFb5g"
      }
    }
  ]
}
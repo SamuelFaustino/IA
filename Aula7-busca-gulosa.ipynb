{
  "nbformat": 4,
  "nbformat_minor": 0,
  "metadata": {
    "colab": {
      "provenance": [],
      "authorship_tag": "ABX9TyM55rT1gKegYt46A3vng4BX",
      "include_colab_link": true
    },
    "kernelspec": {
      "name": "python3",
      "display_name": "Python 3"
    },
    "language_info": {
      "name": "python"
    }
  },
  "cells": [
    {
      "cell_type": "markdown",
      "metadata": {
        "id": "view-in-github",
        "colab_type": "text"
      },
      "source": [
        "<a href=\"https://colab.research.google.com/github/SamuelFaustino/IA/blob/main/Aula7-busca-gulosa.ipynb\" target=\"_parent\"><img src=\"https://colab.research.google.com/assets/colab-badge.svg\" alt=\"Open In Colab\"/></a>"
      ]
    },
    {
      "cell_type": "markdown",
      "source": [
        "# Algoritmo de Busca Gulosa\n",
        "### mportação de Biblioteca - > A biblioteca heapq em Python fornece funcionalidades para manipulação de filas de prioridade, que são estruturas de dados usadas para manter uma coleção de elementos com base em suas prioridades. Ela é implementada usando uma estrutura de dados chamada heap, que é uma árvore binária especial em que cada nó é menor (ou maior, dependendo do tipo de heap) do que seus filhos.\n",
        "\\\\ import heapq"
      ],
      "metadata": {
        "id": "jmVsgih7vOq0"
      }
    },
    {
      "cell_type": "code",
      "source": [
        "import heapq"
      ],
      "metadata": {
        "id": "lW6yCdYPvbry"
      },
      "execution_count": 1,
      "outputs": []
    },
    {
      "cell_type": "markdown",
      "source": [
        "### Função principal"
      ],
      "metadata": {
        "id": "2QZnrXp4veJz"
      }
    },
    {
      "cell_type": "code",
      "source": [
        "def greedy_search(graph, start, goal):\n",
        "    visited = set()\n",
        "    priority_queue = [(0, start)]  # Inicializa a fila de prioridade com o nó inicial e custo zero\n",
        "    while priority_queue:\n",
        "        cost, current_node = heapq.heappop(priority_queue)  # Remove o nó com o menor custo da fila\n",
        "        if current_node == goal:\n",
        "            return cost  # Retorna o custo acumulado se o objetivo for alcançado\n",
        "        if current_node not in visited:\n",
        "            visited.add(current_node)\n",
        "            for neighbor, neighbor_cost in graph[current_node].items():\n",
        "                if neighbor not in visited:\n",
        "                    heapq.heappush(priority_queue, (cost + neighbor_cost, neighbor))  # Adiciona vizinhos à fila de prioridade\n",
        "    return float('inf')  # Retorna infinito se o objetivo não for alcançado"
      ],
      "metadata": {
        "id": "ER974wGnvkFS"
      },
      "execution_count": 2,
      "outputs": []
    },
    {
      "cell_type": "markdown",
      "source": [
        "### Exemplo de grafo ponderado"
      ],
      "metadata": {
        "id": "yL9k8wWxvoB8"
      }
    },
    {
      "cell_type": "code",
      "source": [
        "grafo_entregas = {\n",
        "    'A': { 'B': 10, 'C': 20, 'D': 15 },\n",
        "    'B': { 'A': 10, 'C': 25, 'E': 30 },\n",
        "    'C': { 'A': 20, 'B': 25, 'D': 35, 'E': 40 },\n",
        "    'D': { 'A': 15, 'C': 35, 'E': 45 },\n",
        "    'E': { 'B':30, 'C': 40, 'D': 45 }\n",
        "}"
      ],
      "metadata": {
        "id": "Md6MGZvUvqlp"
      },
      "execution_count": 5,
      "outputs": []
    },
    {
      "cell_type": "markdown",
      "source": [
        "### Testar"
      ],
      "metadata": {
        "id": "_ZWgPyBrvvBZ"
      }
    },
    {
      "cell_type": "code",
      "source": [
        "start_node = 'A'\n",
        "goal_node = 'E'\n",
        "\n",
        "shortest_path_cost = greedy_search(grafo_entregas, start_node, goal_node)\n",
        "print(\"O custo do caminho mais curto de: \", start_node, \"para\", goal_node, \"é:\", shortest_path_cost)"
      ],
      "metadata": {
        "colab": {
          "base_uri": "https://localhost:8080/"
        },
        "id": "Dwhpbl_svwsZ",
        "outputId": "94bb112a-4b01-4137-9fb2-27d3d97e701f"
      },
      "execution_count": 7,
      "outputs": [
        {
          "output_type": "stream",
          "name": "stdout",
          "text": [
            "O custo do caminho mais curto de:  A para E é: 40\n"
          ]
        }
      ]
    }
  ]
}
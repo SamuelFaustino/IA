{
  "nbformat": 4,
  "nbformat_minor": 0,
  "metadata": {
    "colab": {
      "provenance": [],
      "authorship_tag": "ABX9TyNWRweDlAsp9NfgKIYdJ4WC",
      "include_colab_link": true
    },
    "kernelspec": {
      "name": "python3",
      "display_name": "Python 3"
    },
    "language_info": {
      "name": "python"
    }
  },
  "cells": [
    {
      "cell_type": "markdown",
      "metadata": {
        "id": "view-in-github",
        "colab_type": "text"
      },
      "source": [
        "<a href=\"https://colab.research.google.com/github/SamuelFaustino/IA/blob/main/Aula04-03-24.ipynb\" target=\"_parent\"><img src=\"https://colab.research.google.com/assets/colab-badge.svg\" alt=\"Open In Colab\"/></a>"
      ]
    },
    {
      "cell_type": "code",
      "execution_count": null,
      "metadata": {
        "id": "NnExfdqWkkyG"
      },
      "outputs": [],
      "source": []
    },
    {
      "cell_type": "code",
      "source": [
        "import networkx as nx\n",
        "import matplotlib.pyplot as plt"
      ],
      "metadata": {
        "id": "kZDKadnlkmIw"
      },
      "execution_count": 1,
      "outputs": []
    },
    {
      "cell_type": "markdown",
      "source": [
        "## Função para criar um grafo de exemplo"
      ],
      "metadata": {
        "id": "IQ66AE-vktjm"
      }
    },
    {
      "cell_type": "code",
      "source": [
        "def criar_grafo_exemplo():\n",
        "    G = nx.Graph()\n",
        "\n",
        "    # Adiciona nós\n",
        "    G.add_nodes_from([\"A\", \"B\", \"C\", \"D\", \"E\"])\n",
        "\n",
        "    # Adiciona arestas\n",
        "    G.add_edges_from([(\"A\", \"B\"), (\"B\", \"D\"), (\"B\", \"E\"), (\"E\", \"H\"), (\"A\", \"C\"), (\"C\", \"F\"), (\"C\", \"G\"),(\"E\",\"I\")])\n",
        "\n",
        "    return G"
      ],
      "metadata": {
        "id": "K8wAVqz1krE_"
      },
      "execution_count": 22,
      "outputs": []
    },
    {
      "cell_type": "markdown",
      "source": [
        "## Função para desenhar o grafo"
      ],
      "metadata": {
        "id": "iDoRFlSrk1ge"
      }
    },
    {
      "cell_type": "code",
      "source": [
        "def desenhar_grafo(grafo):\n",
        "    pos = nx.spring_layout(grafo)  # Define a posição dos nós\n",
        "    nx.draw(grafo, pos, with_labels=True, font_weight='bold', node_size=700, node_color='yellow', font_size=10)\n",
        "    plt.show()"
      ],
      "metadata": {
        "id": "Sknyecwek20u"
      },
      "execution_count": 23,
      "outputs": []
    },
    {
      "cell_type": "markdown",
      "source": [
        "## Criar um grafo de exemplo"
      ],
      "metadata": {
        "id": "7ason8oyk6L3"
      }
    },
    {
      "cell_type": "code",
      "source": [
        "grafo_exemplo = criar_grafo_exemplo()"
      ],
      "metadata": {
        "id": "Tod1y9B5k7o5"
      },
      "execution_count": 24,
      "outputs": []
    },
    {
      "cell_type": "markdown",
      "source": [
        "### Desenhar o grafo"
      ],
      "metadata": {
        "id": "q3o8raSyk_cG"
      }
    },
    {
      "cell_type": "code",
      "source": [
        "desenhar_grafo(grafo_exemplo)"
      ],
      "metadata": {
        "colab": {
          "base_uri": "https://localhost:8080/",
          "height": 516
        },
        "id": "j9LPG4u6lCHA",
        "outputId": "56fa263b-78e9-445e-dd05-0fa50986768a"
      },
      "execution_count": 25,
      "outputs": [
        {
          "output_type": "display_data",
          "data": {
            "text/plain": [
              "<Figure size 640x480 with 1 Axes>"
            ],
            "image/png": "[encoded data removed]"
          },
          "metadata": {}
        }
      ]
    },
    {
      "cell_type": "code",
      "source": [
        "from collections import deque"
      ],
      "metadata": {
        "id": "TUGcvpxlmWzk"
      },
      "execution_count": 26,
      "outputs": []
    },
    {
      "cell_type": "markdown",
      "source": [
        "### Função para detectar o menor caminho à ser percorrido:"
      ],
      "metadata": {
        "id": "fB651TMxmglW"
      }
    },
    {
      "cell_type": "code",
      "source": [
        "def busca_largura(grafo, inicio, objetivo):\n",
        "    fila = deque([(inicio, [inicio])])\n",
        "    print(str(fila))\n",
        "\n",
        "    while fila:\n",
        "        (vertice, caminho) = fila.popleft()\n",
        "        print(\"vertice: \" + str(vertice))\n",
        "        print(\"caminho: \" + str(caminho))\n",
        "        for vizinho in grafo[vertice]:\n",
        "            print(\"vizinho: \" + str(vizinho))\n",
        "            if vizinho not in caminho:\n",
        "                if vizinho == objetivo:\n",
        "                    return caminho + [vizinho]\n",
        "                else:\n",
        "                    fila.append((vizinho, caminho + [vizinho]))\n",
        "\n"
      ],
      "metadata": {
        "id": "6v-pUGc4moFI"
      },
      "execution_count": 27,
      "outputs": []
    },
    {
      "cell_type": "code",
      "source": [
        "fila = deque([('A', ['A'])])\n",
        "print(str(fila))\n",
        "(vertice, caminho) = fila.popleft()\n",
        "print(str((vertice, caminho)))\n"
      ],
      "metadata": {
        "colab": {
          "base_uri": "https://localhost:8080/"
        },
        "id": "36R0ZKKWmsn8",
        "outputId": "ef3a6818-728a-4bc7-9cfc-9a93d203d5d4"
      },
      "execution_count": 28,
      "outputs": [
        {
          "output_type": "stream",
          "name": "stdout",
          "text": [
            "deque([('A', ['A'])])\n",
            "('A', ['A'])\n"
          ]
        }
      ]
    },
    {
      "cell_type": "markdown",
      "source": [
        "### GRAFO Exemplo:"
      ],
      "metadata": {
        "id": "4wNHn0nGmx5r"
      }
    },
    {
      "cell_type": "code",
      "source": [
        "grafo_exemplo = {\n",
        "    'A': ['B', 'C'],\n",
        "    'B': ['A', 'D', 'E'],\n",
        "    'C': ['A', 'F', 'G'],\n",
        "    'D': ['B'],\n",
        "    'E': ['B', 'H','I'],\n",
        "    'F': ['C'],\n",
        "    'G': ['C'],\n",
        "    'H': ['E'],\n",
        "    'I': ['E']\n",
        "}"
      ],
      "metadata": {
        "id": "UHl4sj7MmzKc"
      },
      "execution_count": 40,
      "outputs": []
    },
    {
      "cell_type": "markdown",
      "source": [
        "### Chamar a função para poder encontrar o menor caminho para poder chegar até o objetivo esperado."
      ],
      "metadata": {
        "id": "2jCodgqAm3bx"
      }
    },
    {
      "cell_type": "code",
      "source": [
        "resultado = busca_largura(grafo_exemplo, 'A', 'I')\n",
        "print(\"Caminho mais curto:\", resultado)"
      ],
      "metadata": {
        "colab": {
          "base_uri": "https://localhost:8080/"
        },
        "id": "buU8f33vm4x8",
        "outputId": "2ba9bbd2-c1ea-4b1c-c4a7-10d2df571032"
      },
      "execution_count": 41,
      "outputs": [
        {
          "output_type": "stream",
          "name": "stdout",
          "text": [
            "deque([('A', ['A'])])\n",
            "vertice: A\n",
            "caminho: ['A']\n",
            "vizinho: B\n",
            "vizinho: C\n",
            "vertice: B\n",
            "caminho: ['A', 'B']\n",
            "vizinho: A\n",
            "vizinho: D\n",
            "vizinho: E\n",
            "vertice: C\n",
            "caminho: ['A', 'C']\n",
            "vizinho: A\n",
            "vizinho: F\n",
            "vizinho: G\n",
            "vertice: D\n",
            "caminho: ['A', 'B', 'D']\n",
            "vizinho: B\n",
            "vertice: E\n",
            "caminho: ['A', 'B', 'E']\n",
            "vizinho: B\n",
            "vizinho: H\n",
            "vizinho: I\n",
            "Caminho mais curto: ['A', 'B', 'E', 'I']\n"
          ]
        }
      ]
    }
  ]
}
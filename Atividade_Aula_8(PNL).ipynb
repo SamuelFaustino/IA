{
  "nbformat": 4,
  "nbformat_minor": 0,
  "metadata": {
    "colab": {
      "provenance": [],
      "authorship_tag": "ABX9TyMhnMwRDgEI0/tCNol8hlAU",
      "include_colab_link": true
    },
    "kernelspec": {
      "name": "python3",
      "display_name": "Python 3"
    },
    "language_info": {
      "name": "python"
    }
  },
  "cells": [
    {
      "cell_type": "markdown",
      "metadata": {
        "id": "view-in-github",
        "colab_type": "text"
      },
      "source": [
        "<a href=\"https://colab.research.google.com/github/SamuelFaustino/IA/blob/main/Atividade_Aula_8(PNL).ipynb\" target=\"_parent\"><img src=\"https://colab.research.google.com/assets/colab-badge.svg\" alt=\"Open In Colab\"/></a>"
      ]
    },
    {
      "cell_type": "markdown",
      "source": [
        "# Instalação da biblioteca spacy\n",
        "## %pip install spacy\n",
        "## !python -m spacy download en_core_web_sm"
      ],
      "metadata": {
        "id": "_J9ab9_bzvGK"
      }
    },
    {
      "cell_type": "code",
      "source": [
        "%pip install spacy"
      ],
      "metadata": {
        "id": "kp39cVKpyb3i"
      },
      "execution_count": null,
      "outputs": []
    },
    {
      "cell_type": "code",
      "source": [
        "!python -m spacy download pt_core_news_sm"
      ],
      "metadata": {
        "id": "VropTTVKyrWK"
      },
      "execution_count": null,
      "outputs": []
    },
    {
      "cell_type": "code",
      "source": [
        "import spacy"
      ],
      "metadata": {
        "id": "nyNtM5uuza6C"
      },
      "execution_count": null,
      "outputs": []
    },
    {
      "cell_type": "markdown",
      "source": [
        "Carregar a biblioteca spacy"
      ],
      "metadata": {
        "id": "ibz_uEquzig7"
      }
    },
    {
      "cell_type": "code",
      "source": [
        "nlp = spacy.load(\"pt_core_news_sm\")"
      ],
      "metadata": {
        "id": "YeEPqtwpzfO7"
      },
      "execution_count": null,
      "outputs": []
    },
    {
      "cell_type": "code",
      "source": [
        "texto = '''Herman Hollerith, um inventor de diversas máquinas elétricas para a soma e contagem de dados que eram representados sob a forma de fitas de papel perfuradas. Através dessas perfurações, os dados que elas representavam podiam ser computados de uma forma rápida e automática, através de circuitos elétricos. Com esse processo, os Estados Unidos puderam acompanhar de perto o crescimento de sua população. Os resultados do censo de 1890 foram fornecidos três anos depois, economizando-se vários anos de trabalho.\n",
        "\n",
        "Em 1896, Hollerith criou a Tabulating Machine Company e introduziu inovações em sua descoberta: a fita de papel foi substituída por cartões. Estes viriam a ser o elemento básico das máquinas IBM de processamento de dados de algumas décadas atrás. Já em 1911, duas outras companhias, a Internacional Time Recorde Co. (de registradores mecânicos de tempo), e a Computing Cale Co. (de instrumentos de aferição de peso), uniram-se a ela, por sugestão do negociante e banqueiro Charles R. Flint, formando-se então a Computing Tabulating Recording Co - a CTR.\n",
        "\n",
        "Três anos mais tarde, em 1914, Thomas J. Watson (líder industrial que foi um dos homens mais ricos do seu tempo) assumiu a presidência da organização e estabeleceu normas de trabalho absolutamente inovadoras para a época. Naquele tempo, a CTR contava com menos de 1 400 funcionários e as constantes pesquisas de engenharia resultaram na criação e no aperfeiçoamento de novas máquinas de contabilidade, exigidas pelo rápido desenvolvimento industrial. Antes do ano de 1924, aquele pequeno grupo de homens havia aumentado e diversificado muito sua experiência. Os produtos ganharam maior qualidade, surgiram novas máquinas e com elas novos escritórios de vendas e mais vendedores.\n",
        "\n",
        "Em fevereiro de 1924 a CTR muda seu nome para INTERNATIONAL BUSINESS MACHINES, hoje mundialmente conhecida pelo seu acrônimo, IBM.\n",
        "\n",
        "A sigla IBM passou a ser, desde então, a fórmula para que a indústria e o comércio continuassem a resolver seus problemas de desenvolvimento.[4]\n",
        "\n",
        "No início do século XX, a IBM era a única empresa do mundo que dispunha da tecnologia de cartões perfurados, aplicado em quase todas as áreas que utilizavam máquinas para cadastro, identificação, arquivo e regulação de informações. O equipamento desenvolvido pela IBM foi também utilizado para fins menos nobres durante o período da 2ª Guerra Mundial, quando o Terceiro Reich firmou uma parceria com a empresa para automatizar o sistema de identificação,[5] controle e transferência de prisioneiros, segundo o jornalista Edwin Black no seu livro “Nazi Nexus: America's Corporate Connections to Hitler's Holocaust”, de 2009. Os serviços prestados pela IBM ao governo alemão rendeu o equivalente a US$ 200 milhões. O número de identificação tatuado no braço dos prisioneiros do campo de concentração de Auschwitz relacionava-se ao número de cartão perfurado dos registros da IBM.[6]\n",
        "\n",
        "Em consequência do constante e rápido desenvolvimento, a International Business Machines Corporation criou em 1949 a IBM World Trade Corporation, uma subsidiária inteiramente independente, cujo objetivo era aumentar vendas, serviços e produção fora dos Estados Unidos.\n",
        "\n",
        "As fábricas e laboratórios da IBM funcionam em 15 diferentes países. Essas fábricas estão integradas aos laboratórios de desenvolvimento na França, Alemanha, Espanha, Itália, Holanda, Suécia, Inglaterra, Brasil, Argentina, Colômbia, México, Canadá, Austrália e Japão.[7]\n",
        "\n",
        "A IBM é uma das principais empresas que investe em pesquisa e desenvolvimento mantendo-se na liderança do ranking de publicação de patentes há 16 anos consecutivos - a IBM publicou 4 914 patentes norte-americanas em 2009, estabelecendo um recorde histórico para a \"Big Blue\", mantendo sua liderança contra competidores como a Samsung (3 611 patentes) e a Microsoft (2 906 patentes).\n",
        "\n",
        "Nos últimos anos, a IBM transformou completamente seu modelo de negócio. A empresa se desfez de várias atividades que já tinham se transformado em \"commodities\", como os segmentos de PCs e impressoras, e ampliou os investimentos nas áreas de prestação de serviços, que possuem um superior valor agregado, como consultoria, informação sob demanda e serviços. Em 2005, sua divisão de PCs foi vendida para a empresa chinesa Lenovo.[8]'''.strip()"
      ],
      "metadata": {
        "id": "8pVXwBa0z9Xl"
      },
      "execution_count": null,
      "outputs": []
    },
    {
      "cell_type": "code",
      "source": [
        "doc = nlp(texto)"
      ],
      "metadata": {
        "id": "2kBr-4pF0KLC"
      },
      "execution_count": null,
      "outputs": []
    },
    {
      "cell_type": "code",
      "source": [
        "for entidade in doc.ents:\n",
        "  print(entidade.text, entidade.label_)\n",
        "\n"
      ],
      "metadata": {
        "colab": {
          "base_uri": "https://localhost:8080/"
        },
        "id": "IX0TSRRH0sbL",
        "outputId": "a94a8282-4dd3-4fcb-b3cd-1143c51a943c"
      },
      "execution_count": null,
      "outputs": [
        {
          "output_type": "stream",
          "name": "stdout",
          "text": [
            "Herman Hollerith PER\n",
            "Estados Unidos LOC\n",
            "Hollerith PER\n",
            "Tabulating Machine Company ORG\n",
            "IBM ORG\n",
            "Internacional Time Recorde Co ORG\n",
            "Computing Cale Co ORG\n",
            "Computing Tabulating Recording Co ORG\n",
            "CTR LOC\n",
            "Thomas J. Watson PER\n",
            "CTR ORG\n",
            "CTR ORG\n",
            "INTERNATIONAL ORG\n",
            "MACHINES MISC\n",
            "IBM ORG\n",
            "IBM ORG\n",
            "IBM ORG\n",
            "IBM ORG\n",
            "2ª Guerra Mundial MISC\n",
            "Terceiro Reich ORG\n",
            "Edwin Black PER\n",
            "“Nazi Nexus: America's Corporate Connections to Hitler's MISC\n",
            "Holocaust MISC\n",
            "IBM ORG\n",
            "US$ LOC\n",
            "Auschwitz LOC\n",
            "IBM.[6 LOC\n",
            "International Business Machines Corporation ORG\n",
            "IBM World Trade Corporation ORG\n",
            "Estados Unidos LOC\n",
            "IBM ORG\n",
            "França LOC\n",
            "Alemanha LOC\n",
            "Espanha LOC\n",
            "Itália LOC\n",
            "Holanda LOC\n",
            "Suécia LOC\n",
            "Inglaterra LOC\n",
            "Brasil LOC\n",
            "Argentina LOC\n",
            "Colômbia LOC\n",
            "México LOC\n",
            "Canadá LOC\n",
            "Austrália LOC\n",
            "Japão.[7 LOC\n",
            "IBM ORG\n",
            "IBM ORG\n",
            "Big Blue MISC\n",
            "Samsung ORG\n",
            "Microsoft ORG\n",
            "IBM ORG\n",
            "PCs MISC\n",
            "PCs MISC\n",
            "Lenovo.[8 MISC\n"
          ]
        }
      ]
    }
  ]
}